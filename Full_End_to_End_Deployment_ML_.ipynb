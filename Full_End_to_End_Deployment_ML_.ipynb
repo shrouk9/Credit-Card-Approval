{
  "nbformat": 4,
  "nbformat_minor": 0,
  "metadata": {
    "colab": {
      "name": "Full End-to-End Deployment_ML .ipynb",
      "provenance": [],
      "collapsed_sections": [],
      "authorship_tag": "ABX9TyP2PwuVkI3FwOkCJU4Apyvt",
      "include_colab_link": true
    },
    "kernelspec": {
      "name": "python3",
      "display_name": "Python 3"
    },
    "language_info": {
      "name": "python"
    }
  },
  "cells": [
    {
      "cell_type": "markdown",
      "metadata": {
        "id": "view-in-github",
        "colab_type": "text"
      },
      "source": [
        "<a href=\"https://colab.research.google.com/github/shrouk9/Credit-Card-Approval/blob/main/Full_End_to_End_Deployment_ML_.ipynb\" target=\"_parent\"><img src=\"https://colab.research.google.com/assets/colab-badge.svg\" alt=\"Open In Colab\"/></a>"
      ]
    },
    {
      "cell_type": "markdown",
      "source": [
        "# **A Full End-to-End Deployment of a Machine Learning Algorithm into a Live Production Environment**\n",
        "\n",
        "##This article explains how to deploy Jupyter Notebooks using voila and mybinder and this approach is used because it is fast, effective and free."
      ],
      "metadata": {
        "id": "q95WR_Z13Mpv"
      }
    },
    {
      "cell_type": "code",
      "source": [
        "#pip install ipywidgets"
      ],
      "metadata": {
        "id": "bjXURyCYAOAP"
      },
      "execution_count": null,
      "outputs": []
    },
    {
      "cell_type": "code",
      "source": [
        "import pandas as pd\n",
        "from sklearn.tree import DecisionTreeClassifier\n",
        "from sklearn.preprocessing import LabelEncoder\n",
        "from sklearn.model_selection import KFold, cross_val_score\n",
        "\n",
        "# 1. upload the data\n",
        "df_drug = pd.read_csv(\"https://raw.githubusercontent.com/shrouk9/Data/main/drug200.csv\")\n",
        "\n",
        "# 2. encode the categorical features\n",
        "label_encoder = LabelEncoder()\n",
        "\n",
        "categorical_features = [feature for feature in df_drug.columns if df_drug[feature].dtypes == 'O']\n",
        "for feature in categorical_features:\n",
        "    df_drug[feature]=label_encoder.fit_transform(df_drug[feature])\n",
        "    \n",
        "X = df_drug.drop(\"Drug\", axis=1)\n",
        "y = df_drug[\"Drug\"]\n",
        "\n",
        "# 3. Fit the ML model\n",
        "model = DecisionTreeClassifier(criterion=\"entropy\")\n",
        "model.fit(X, y)\n",
        "\n",
        "# 4. using cross validation \n",
        "kfold = KFold(random_state=42, shuffle=True)\n",
        "cv_results = cross_val_score(model, X, y, cv=kfold, scoring=\"accuracy\")\n",
        "\n",
        "# 5. print the model's accuracy\n",
        "print(cv_results.mean(), cv_results.std())"
      ],
      "metadata": {
        "colab": {
          "base_uri": "https://localhost:8080/"
        },
        "id": "lWnrRtZM23or",
        "outputId": "65d82559-6e9d-4331-b1a1-179464b352ba"
      },
      "execution_count": null,
      "outputs": [
        {
          "output_type": "stream",
          "name": "stdout",
          "text": [
            "0.99 0.012247448713915901\n"
          ]
        }
      ]
    },
    {
      "cell_type": "markdown",
      "source": [
        "## Well, we have a ML algorithm trained to predict drug presriptions and that cross validation has been used to evaluate the model accuracy at 99%.\n",
        "\n",
        "\n",
        "## We are going to deploy this model into a production environment, hence our next step is to preserve the state of our trained model using pickle ..."
      ],
      "metadata": {
        "id": "oS05-fc9BK04"
      }
    },
    {
      "cell_type": "code",
      "source": [
        "import pickle\n",
        "\n",
        "pickle_file = open('model.pkl', 'ab')\n",
        "pickle.dump(model, pickle_file)                     \n",
        "pickle_file.close()"
      ],
      "metadata": {
        "id": "D5f_bOEJsI7z"
      },
      "execution_count": null,
      "outputs": []
    }
  ]
}